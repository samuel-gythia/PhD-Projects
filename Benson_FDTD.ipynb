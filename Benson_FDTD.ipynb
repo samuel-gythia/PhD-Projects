{
 "cells": [
  {
   "cell_type": "code",
   "execution_count": 1,
   "id": "d4c23abd-a44a-4619-a03c-20cc4a7f76bf",
   "metadata": {},
   "outputs": [
    {
     "name": "stdout",
     "output_type": "stream",
     "text": [
      "C:\\Users\\soumy\\Phd projects\n"
     ]
    }
   ],
   "source": [
    "import os\n",
    "print(os.getcwd())\n"
   ]
  },
  {
   "cell_type": "code",
   "execution_count": 1,
   "id": "fda5b938-dfac-4fcc-82c5-0c95e403c29f",
   "metadata": {},
   "outputs": [
    {
     "ename": "ModuleNotFoundError",
     "evalue": "No module named 'meep'",
     "output_type": "error",
     "traceback": [
      "\u001b[1;31m---------------------------------------------------------------------------\u001b[0m",
      "\u001b[1;31mModuleNotFoundError\u001b[0m                       Traceback (most recent call last)",
      "Cell \u001b[1;32mIn[1], line 1\u001b[0m\n\u001b[1;32m----> 1\u001b[0m \u001b[38;5;28;01mimport\u001b[39;00m\u001b[38;5;250m \u001b[39m\u001b[38;5;21;01mmeep\u001b[39;00m\u001b[38;5;250m \u001b[39m\u001b[38;5;28;01mas\u001b[39;00m\u001b[38;5;250m \u001b[39m\u001b[38;5;21;01mmp\u001b[39;00m\n\u001b[0;32m      2\u001b[0m \u001b[38;5;28;01mimport\u001b[39;00m\u001b[38;5;250m \u001b[39m\u001b[38;5;21;01mnumpy\u001b[39;00m\u001b[38;5;250m \u001b[39m\u001b[38;5;28;01mas\u001b[39;00m\u001b[38;5;250m \u001b[39m\u001b[38;5;21;01mnp\u001b[39;00m\n\u001b[0;32m      3\u001b[0m \u001b[38;5;28;01mimport\u001b[39;00m\u001b[38;5;250m \u001b[39m\u001b[38;5;21;01mmatplotlib\u001b[39;00m\u001b[38;5;21;01m.\u001b[39;00m\u001b[38;5;21;01mpyplot\u001b[39;00m\u001b[38;5;250m \u001b[39m\u001b[38;5;28;01mas\u001b[39;00m\u001b[38;5;250m \u001b[39m\u001b[38;5;21;01mplt\u001b[39;00m\n",
      "\u001b[1;31mModuleNotFoundError\u001b[0m: No module named 'meep'"
     ]
    }
   ],
   "source": [
    "import meep as mp\n",
    "import numpy as np\n",
    "import matplotlib.pyplot as plt\n",
    "\n",
    "print(\"Meep version:\", mp.__version__)\n"
   ]
  },
  {
   "cell_type": "code",
   "execution_count": null,
   "id": "e6b2f05a-8667-496f-ad2b-463bd28615c6",
   "metadata": {},
   "outputs": [],
   "source": [
    "# Define your geometry parameters\n",
    "gaps = [0.1, 0.2, 0.3, 0.4]   # waveguide-ring gaps in μm\n",
    "ring_radius = 5.0             # in μm\n",
    "resolution = 50               # pixels per μm\n"
   ]
  },
  {
   "cell_type": "code",
   "execution_count": null,
   "id": "58c56870-86c3-4506-aba0-e369ded860c5",
   "metadata": {},
   "outputs": [],
   "source": [
    "def run_coupling_sim(gap, R):\n",
    "    # TODO: paste the run_coupling_sim code here\n",
    "    pass\n"
   ]
  },
  {
   "cell_type": "code",
   "execution_count": null,
   "id": "6f6a748f-0921-4b93-9f39-fccd4df589dd",
   "metadata": {},
   "outputs": [],
   "source": [
    "results = []\n",
    "for g in gaps:\n",
    "    eff = run_coupling_sim(g, ring_radius)\n",
    "    results.append((g, eff))\n"
   ]
  },
  {
   "cell_type": "code",
   "execution_count": null,
   "id": "5fc32314-bc52-4bf9-9f26-fc383e0e194f",
   "metadata": {},
   "outputs": [],
   "source": [
    "gaps_list, coupling = zip(*results)\n",
    "plt.plot(gaps_list, coupling, 'o-')\n",
    "plt.xlabel('Gap (μm)')\n",
    "plt.ylabel('Coupling Efficiency')\n",
    "plt.title('Benson FDTD: Coupling vs Gap')\n",
    "plt.savefig('coupling_vs_gap.png')\n",
    "plt.show()\n"
   ]
  },
  {
   "cell_type": "code",
   "execution_count": 2,
   "id": "e99921f7-09dd-43cb-a28c-12923dbf9142",
   "metadata": {},
   "outputs": [
    {
     "ename": "SyntaxError",
     "evalue": "invalid syntax (2527583120.py, line 1)",
     "output_type": "error",
     "traceback": [
      "\u001b[1;36m  Cell \u001b[1;32mIn[2], line 1\u001b[1;36m\u001b[0m\n\u001b[1;33m    Summary :\u001b[0m\n\u001b[1;37m             ^\u001b[0m\n\u001b[1;31mSyntaxError\u001b[0m\u001b[1;31m:\u001b[0m invalid syntax\n"
     ]
    }
   ],
   "source": [
    "Summary :"
   ]
  }
 ],
 "metadata": {
  "kernelspec": {
   "display_name": "Python 3 (ipykernel)",
   "language": "python",
   "name": "python3"
  },
  "language_info": {
   "codemirror_mode": {
    "name": "ipython",
    "version": 3
   },
   "file_extension": ".py",
   "mimetype": "text/x-python",
   "name": "python",
   "nbconvert_exporter": "python",
   "pygments_lexer": "ipython3",
   "version": "3.10.16"
  }
 },
 "nbformat": 4,
 "nbformat_minor": 5
}
