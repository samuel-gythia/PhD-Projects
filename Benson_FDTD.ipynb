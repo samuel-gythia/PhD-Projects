{
 "cells": [
  {
   "cell_type": "code",
   "execution_count": 1,
   "id": "d4c23abd-a44a-4619-a03c-20cc4a7f76bf",
   "metadata": {},
   "outputs": [
    {
     "name": "stdout",
     "output_type": "stream",
     "text": [
      "C:\\Users\\soumy\\Phd projects\n"
     ]
    }
   ],
   "source": [
    "import os\n",
    "print(os.getcwd())\n"
   ]
  },
  {
   "cell_type": "code",
   "execution_count": 1,
   "id": "fda5b938-dfac-4fcc-82c5-0c95e403c29f",
   "metadata": {},
   "outputs": [
    {
     "ename": "ModuleNotFoundError",
     "evalue": "No module named 'meep'",
     "output_type": "error",
     "traceback": [
      "\u001b[1;31m---------------------------------------------------------------------------\u001b[0m",
      "\u001b[1;31mModuleNotFoundError\u001b[0m                       Traceback (most recent call last)",
      "Cell \u001b[1;32mIn[1], line 1\u001b[0m\n\u001b[1;32m----> 1\u001b[0m \u001b[38;5;28;01mimport\u001b[39;00m\u001b[38;5;250m \u001b[39m\u001b[38;5;21;01mmeep\u001b[39;00m\u001b[38;5;250m \u001b[39m\u001b[38;5;28;01mas\u001b[39;00m\u001b[38;5;250m \u001b[39m\u001b[38;5;21;01mmp\u001b[39;00m\n\u001b[0;32m      2\u001b[0m \u001b[38;5;28;01mimport\u001b[39;00m\u001b[38;5;250m \u001b[39m\u001b[38;5;21;01mnumpy\u001b[39;00m\u001b[38;5;250m \u001b[39m\u001b[38;5;28;01mas\u001b[39;00m\u001b[38;5;250m \u001b[39m\u001b[38;5;21;01mnp\u001b[39;00m\n\u001b[0;32m      3\u001b[0m \u001b[38;5;28;01mimport\u001b[39;00m\u001b[38;5;250m \u001b[39m\u001b[38;5;21;01mmatplotlib\u001b[39;00m\u001b[38;5;21;01m.\u001b[39;00m\u001b[38;5;21;01mpyplot\u001b[39;00m\u001b[38;5;250m \u001b[39m\u001b[38;5;28;01mas\u001b[39;00m\u001b[38;5;250m \u001b[39m\u001b[38;5;21;01mplt\u001b[39;00m\n",
      "\u001b[1;31mModuleNotFoundError\u001b[0m: No module named 'meep'"
     ]
    }
   ],
   "source": [
    "import meep as mp\n",
    "import numpy as np\n",
    "import matplotlib.pyplot as plt\n",
    "\n",
    "print(\"Meep version:\", mp.__version__)\n"
   ]
  },
  {
   "cell_type": "code",
   "execution_count": null,
   "id": "e6b2f05a-8667-496f-ad2b-463bd28615c6",
   "metadata": {},
   "outputs": [],
   "source": [
    "# Define your geometry parameters\n",
    "gaps = [0.1, 0.2, 0.3, 0.4]   # waveguide-ring gaps in μm\n",
    "ring_radius = 5.0             # in μm\n",
    "resolution = 50               # pixels per μm\n"
   ]
  },
  {
   "cell_type": "code",
   "execution_count": 4,
   "id": "58c56870-86c3-4506-aba0-e369ded860c5",
   "metadata": {},
   "outputs": [
    {
     "ename": "IndentationError",
     "evalue": "expected an indented block after function definition on line 2 (3921384772.py, line 6)",
     "output_type": "error",
     "traceback": [
      "\u001b[1;36m  Cell \u001b[1;32mIn[4], line 6\u001b[1;36m\u001b[0m\n\u001b[1;33m    nSiN = 2.0\u001b[0m\n\u001b[1;37m    ^\u001b[0m\n\u001b[1;31mIndentationError\u001b[0m\u001b[1;31m:\u001b[0m expected an indented block after function definition on line 2\n"
     ]
    }
   ],
   "source": [
    "def run_coupling_sim(gap, R):\n",
    "    def run_coupling_sim(gap, R):\n",
    "    #Run a 2D FDTD simulation of a Si3N4 waveguide evanescently coupled to a microring resonator for given gap and ring radius. Returns coupling efficiency = P_ring / (P_waveguide + P_ring).\n",
    "\n",
    "    # Materials & geometry\n",
    "    nSiN = 2.0\n",
    "    waveguide = mp.Block(\n",
    "        size=mp.Vector3(mp.inf, 0.5, mp.inf),\n",
    "        center=mp.Vector3(-5, 0, 0),\n",
    "        material=mp.Medium(index=nSiN)\n",
    "    )\n",
    "    ring = mp.Cylinder(\n",
    "        radius=R,\n",
    "        center=mp.Vector3(gap + R, 0, 0),\n",
    "        height=mp.inf,\n",
    "        material=mp.Medium(index=nSiN)\n",
    "    )\n",
    "    \n",
    "    # Simulation cell & PML\n",
    "    cell = mp.Vector3(20, 10, 0)\n",
    "    pml = [mp.PML(1.0)]\n",
    "    \n",
    "    # Source: CW at λ=1550 nm\n",
    "    fcen = 1/1.55\n",
    "    src = mp.Source(\n",
    "        mp.ContinuousSource(frequency=fcen),\n",
    "        component=mp.Ez,\n",
    "        center=mp.Vector3(-7, 0, 0)\n",
    "    )\n",
    "    \n",
    "    # Set up simulation\n",
    "    sim = mp.Simulation(\n",
    "        cell_size=cell,\n",
    "        boundary_layers=pml,\n",
    "        geometry=[waveguide, ring],\n",
    "        sources=[src],\n",
    "        resolution=resolution\n",
    "    )\n",
    "    \n",
    "    # Flux monitors: through‑port and drop‑port\n",
    "    wg_region = mp.FluxRegion(center=mp.Vector3(8, 0, 0), size=mp.Vector3(0, 1, 0))\n",
    "    ring_region = mp.FluxRegion(center=ring.center, size=mp.Vector3(0, 6, 0))\n",
    "    wg_flux = sim.add_flux(fcen, 0, 1, wg_region)\n",
    "    ring_flux = sim.add_flux(fcen, 0, 1, ring_region)\n",
    "    \n",
    "    # Run and measure\n",
    "    sim.run(until=200)\n",
    "    wg_power = mp.get_flux_data(sim, wg_flux)\n",
    "    ring_power = mp.get_flux_data(sim, ring_flux)\n",
    "    \n",
    "    # Compute efficiency\n",
    "    coupling_eff = ring_power / (wg_power + ring_power)\n",
    "    sim.reset_meep()  # Clean up for next run\n",
    "    return coupling_eff\n",
    "\n"
   ]
  },
  {
   "cell_type": "code",
   "execution_count": null,
   "id": "6f6a748f-0921-4b93-9f39-fccd4df589dd",
   "metadata": {},
   "outputs": [],
   "source": [
    "results = []\n",
    "for g in gaps:\n",
    "    eff = run_coupling_sim(g, ring_radius)\n",
    "    results.append((g, eff))\n"
   ]
  },
  {
   "cell_type": "code",
   "execution_count": null,
   "id": "5fc32314-bc52-4bf9-9f26-fc383e0e194f",
   "metadata": {},
   "outputs": [],
   "source": [
    "gaps_list, coupling = zip(*results)\n",
    "plt.plot(gaps_list, coupling, 'o-')\n",
    "plt.xlabel('Gap (μm)')\n",
    "plt.ylabel('Coupling Efficiency')\n",
    "plt.title('Benson FDTD: Coupling vs Gap')\n",
    "plt.savefig('coupling_vs_gap.png')\n",
    "plt.show()\n"
   ]
  },
  {
   "cell_type": "code",
   "execution_count": 2,
   "id": "e99921f7-09dd-43cb-a28c-12923dbf9142",
   "metadata": {},
   "outputs": [
    {
     "ename": "SyntaxError",
     "evalue": "invalid syntax (2527583120.py, line 1)",
     "output_type": "error",
     "traceback": [
      "\u001b[1;36m  Cell \u001b[1;32mIn[2], line 1\u001b[1;36m\u001b[0m\n\u001b[1;33m    Summary :\u001b[0m\n\u001b[1;37m             ^\u001b[0m\n\u001b[1;31mSyntaxError\u001b[0m\u001b[1;31m:\u001b[0m invalid syntax\n"
     ]
    }
   ],
   "source": [
    "Summary :"
   ]
  }
 ],
 "metadata": {
  "kernelspec": {
   "display_name": "Python 3 (ipykernel)",
   "language": "python",
   "name": "python3"
  },
  "language_info": {
   "codemirror_mode": {
    "name": "ipython",
    "version": 3
   },
   "file_extension": ".py",
   "mimetype": "text/x-python",
   "name": "python",
   "nbconvert_exporter": "python",
   "pygments_lexer": "ipython3",
   "version": "3.10.16"
  }
 },
 "nbformat": 4,
 "nbformat_minor": 5
}
