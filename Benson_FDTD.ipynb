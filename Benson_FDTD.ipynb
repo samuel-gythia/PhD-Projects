{
 "cells": [
  {
   "cell_type": "code",
   "execution_count": 1,
   "id": "fda5b938-dfac-4fcc-82c5-0c95e403c29f",
   "metadata": {},
   "outputs": [
    {
     "name": "stdout",
     "output_type": "stream",
     "text": [
      "Tidy3D version: 2.8.4\n"
     ]
    }
   ],
   "source": [
    "import tidy3d as td\n",
    "import numpy as np\n",
    "import matplotlib.pyplot as plt\n",
    "print(\"Tidy3D version:\", td.__version__)\n",
    "\n"
   ]
  },
  {
   "cell_type": "code",
   "execution_count": 2,
   "id": "e6b2f05a-8667-496f-ad2b-463bd28615c6",
   "metadata": {},
   "outputs": [],
   "source": [
    "# Define your geometry parameters\n",
    "gaps = [0.1, 0.2, 0.3, 0.4]   # waveguide-ring gaps in μm\n",
    "ring_radius = 5.0             # in μm\n",
    "resolution = 50               # pixels per μm\n"
   ]
  },
  {
   "cell_type": "code",
   "execution_count": 3,
   "id": "58c56870-86c3-4506-aba0-e369ded860c5",
   "metadata": {},
   "outputs": [],
   "source": [
    "def run_coupling_sim(gap, R):\n",
    "    # Tidy3D simulation code will go here!\n",
    "    pass\n"
   ]
  },
  {
   "cell_type": "code",
   "execution_count": 11,
   "id": "6f6a748f-0921-4b93-9f39-fccd4df589dd",
   "metadata": {},
   "outputs": [
    {
     "ename": "NameError",
     "evalue": "name 'run_coupling_sim' is not defined",
     "output_type": "error",
     "traceback": [
      "\u001b[1;31m---------------------------------------------------------------------------\u001b[0m",
      "\u001b[1;31mNameError\u001b[0m                                 Traceback (most recent call last)",
      "Cell \u001b[1;32mIn[11], line 3\u001b[0m\n\u001b[0;32m      1\u001b[0m results \u001b[38;5;241m=\u001b[39m []\n\u001b[0;32m      2\u001b[0m \u001b[38;5;28;01mfor\u001b[39;00m g \u001b[38;5;129;01min\u001b[39;00m gaps:\n\u001b[1;32m----> 3\u001b[0m     eff \u001b[38;5;241m=\u001b[39m \u001b[43mrun_coupling_sim\u001b[49m(g, ring_radius)\n\u001b[0;32m      4\u001b[0m     results\u001b[38;5;241m.\u001b[39mappend((g, eff))\n",
      "\u001b[1;31mNameError\u001b[0m: name 'run_coupling_sim' is not defined"
     ]
    }
   ],
   "source": [
    "results = []\n",
    "for g in gaps:\n",
    "    eff = run_coupling_sim(g, ring_radius)\n",
    "    results.append((g, eff))\n"
   ]
  },
  {
   "cell_type": "code",
   "execution_count": 12,
   "id": "5fc32314-bc52-4bf9-9f26-fc383e0e194f",
   "metadata": {},
   "outputs": [
    {
     "ename": "ValueError",
     "evalue": "not enough values to unpack (expected 2, got 0)",
     "output_type": "error",
     "traceback": [
      "\u001b[1;31m---------------------------------------------------------------------------\u001b[0m",
      "\u001b[1;31mValueError\u001b[0m                                Traceback (most recent call last)",
      "Cell \u001b[1;32mIn[12], line 1\u001b[0m\n\u001b[1;32m----> 1\u001b[0m gaps_list, coupling \u001b[38;5;241m=\u001b[39m \u001b[38;5;28mzip\u001b[39m(\u001b[38;5;241m*\u001b[39mresults)\n\u001b[0;32m      2\u001b[0m plt\u001b[38;5;241m.\u001b[39mplot(gaps_list, coupling, \u001b[38;5;124m'\u001b[39m\u001b[38;5;124mo-\u001b[39m\u001b[38;5;124m'\u001b[39m)\n\u001b[0;32m      3\u001b[0m plt\u001b[38;5;241m.\u001b[39mxlabel(\u001b[38;5;124m'\u001b[39m\u001b[38;5;124mGap (μm)\u001b[39m\u001b[38;5;124m'\u001b[39m)\n",
      "\u001b[1;31mValueError\u001b[0m: not enough values to unpack (expected 2, got 0)"
     ]
    }
   ],
   "source": [
    "gaps_list, coupling = zip(*results)\n",
    "plt.plot(gaps_list, coupling, 'o-')\n",
    "plt.xlabel('Gap (μm)')\n",
    "plt.ylabel('Coupling Efficiency')\n",
    "plt.title('Benson FDTD: Coupling vs Gap')\n",
    "plt.savefig('coupling_vs_gap.png')\n",
    "plt.show()\n"
   ]
  },
  {
   "cell_type": "code",
   "execution_count": 13,
   "id": "e99921f7-09dd-43cb-a28c-12923dbf9142",
   "metadata": {},
   "outputs": [
    {
     "ename": "SyntaxError",
     "evalue": "invalid syntax (2527583120.py, line 1)",
     "output_type": "error",
     "traceback": [
      "\u001b[1;36m  Cell \u001b[1;32mIn[13], line 1\u001b[1;36m\u001b[0m\n\u001b[1;33m    Summary :\u001b[0m\n\u001b[1;37m             ^\u001b[0m\n\u001b[1;31mSyntaxError\u001b[0m\u001b[1;31m:\u001b[0m invalid syntax\n"
     ]
    }
   ],
   "source": [
    "Summary :"
   ]
  },
  {
   "cell_type": "code",
   "execution_count": null,
   "id": "016dded8-39f7-4bbe-b562-31b2301374d1",
   "metadata": {},
   "outputs": [],
   "source": []
  }
 ],
 "metadata": {
  "kernelspec": {
   "display_name": "Python 3 (ipykernel)",
   "language": "python",
   "name": "python3"
  },
  "language_info": {
   "codemirror_mode": {
    "name": "ipython",
    "version": 3
   },
   "file_extension": ".py",
   "mimetype": "text/x-python",
   "name": "python",
   "nbconvert_exporter": "python",
   "pygments_lexer": "ipython3",
   "version": "3.10.16"
  }
 },
 "nbformat": 4,
 "nbformat_minor": 5
}
