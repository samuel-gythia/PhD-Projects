{
 "cells": [
  {
   "cell_type": "code",
   "execution_count": null,
   "id": "d2aab928-784e-4c4d-9b50-451b48858ccf",
   "metadata": {},
   "outputs": [],
   "source": [
    "import numpy as np\n",
    "import matplotlib.pyplot as plt\n",
    "\n",
    "# Mock function to simulate Wilson lower bound tightening\n",
    "def mock_lower_bound(shots, fidelity=0.9, decay=200):\n",
    "    # Exponential approach to fidelity: lb = fidelity * (1 - exp(-shots/decay))\n",
    "    return fidelity * (1 - np.exp(-shots/decay))"
   ]
  },
  {
   "cell_type": "code",
   "execution_count": null,
   "id": "08a1d9a2-0da7-411b-9b4f-9e2a2f9914e6",
   "metadata": {},
   "outputs": [],
   "source": [
    "threshold = 0.90\n",
    "shots_per_iter = 50\n",
    "max_iters = 20\n",
    "\n",
    "results = {}\n",
    "for name in ['Clifford', 'Non-Clifford']:\n",
    "    shots = np.arange(1, max_iters+1) * shots_per_iter\n",
    "    # Use slightly different decay rates to distinguish the two curves\n",
    "    decay = 200 if name=='Clifford' else 300\n",
    "    lbs = [mock_lower_bound(s, decay=decay) for s in shots]\n",
    "    results[name] = (shots, lbs)"
   ]
  }
 ],
 "metadata": {
  "kernelspec": {
   "display_name": "Python 3 (ipykernel)",
   "language": "python",
   "name": "python3"
  },
  "language_info": {
   "codemirror_mode": {
    "name": "ipython",
    "version": 3
   },
   "file_extension": ".py",
   "mimetype": "text/x-python",
   "name": "python",
   "nbconvert_exporter": "python",
   "pygments_lexer": "ipython3",
   "version": "3.10.16"
  }
 },
 "nbformat": 4,
 "nbformat_minor": 5
}
