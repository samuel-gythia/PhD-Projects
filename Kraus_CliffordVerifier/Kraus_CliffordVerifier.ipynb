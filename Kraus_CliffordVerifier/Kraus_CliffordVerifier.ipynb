{
 "cells": [
  {
   "cell_type": "code",
   "execution_count": null,
   "id": "68b80dbb-1536-4333-8933-cbd6d475bb54",
   "metadata": {},
   "outputs": [],
   "source": [
    "from qiskit import QuantumCircuit, transpile\n",
    "from qiskit.providers.aer import AerSimulator\n",
    "from qiskit.providers.aer.noise import NoiseModel, depolarizing_error\n",
    "import numpy as np\n",
    "from statsmodels.stats.proportion import proportion_confint\n",
    "from scipy.stats import binom_test\n",
    "import matplotlib.pyplot as plt\n"
   ]
  },
  {
   "cell_type": "code",
   "execution_count": null,
   "id": "9bf2cc23-109c-4be8-b88b-2fa4d14fab32",
   "metadata": {},
   "outputs": [],
   "source": [
    "circ_cliff = QuantumCircuit(3,3)\n",
    "circ_cliff.h(0)\n",
    "circ_cliff.cx(0,1)\n",
    "circ_cliff.cx(1,2)\n",
    "circ_cliff.barrier()\n",
    "circ_cliff.measure([0,1,2],[0,1,2])  # Ideal '000'\n",
    "\n",
    "circ_noncliff = QuantumCircuit(3,3)\n",
    "circ_noncliff.h(0)\n",
    "circ_noncliff.t(1)\n",
    "circ_noncliff.cx(1,2)\n",
    "circ_noncliff.barrier()\n",
    "circ_noncliff.measure([0,1,2],[0,1,2])  # Ideal '110'\n"
   ]
  }
 ],
 "metadata": {
  "kernelspec": {
   "display_name": "Python 3 (ipykernel)",
   "language": "python",
   "name": "python3"
  },
  "language_info": {
   "codemirror_mode": {
    "name": "ipython",
    "version": 3
   },
   "file_extension": ".py",
   "mimetype": "text/x-python",
   "name": "python",
   "nbconvert_exporter": "python",
   "pygments_lexer": "ipython3",
   "version": "3.10.16"
  }
 },
 "nbformat": 4,
 "nbformat_minor": 5
}
