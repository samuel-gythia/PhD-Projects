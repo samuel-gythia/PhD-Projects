{
 "cells": [
  {
   "cell_type": "code",
   "execution_count": null,
   "id": "8d2bd081-9980-4385-9a2d-9e36b297c9d9",
   "metadata": {},
   "outputs": [],
   "source": [
    "!pip install qiskit qiskit-aer statsmodels scipy matplotlib"
   ]
  },
  {
   "cell_type": "code",
   "execution_count": null,
   "id": "68b80dbb-1536-4333-8933-cbd6d475bb54",
   "metadata": {},
   "outputs": [],
   "source": [
    "from qiskit import QuantumCircuit, transpile\n",
    "from qiskit.providers.aer import AerSimulator\n",
    "from qiskit.providers.aer.noise import NoiseModel, depolarizing_error\n",
    "\n",
    "import numpy as np\n",
    "from statsmodels.stats.proportion import proportion_confint\n",
    "from scipy.stats import binom_test\n",
    "\n",
    "import matplotlib.pyplot as plt"
   ]
  },
  {
   "cell_type": "code",
   "execution_count": null,
   "id": "9bf2cc23-109c-4be8-b88b-2fa4d14fab32",
   "metadata": {},
   "outputs": [],
   "source": [
    "# Clifford-only circuit\n",
    "circ_cliff = QuantumCircuit(3, 3)\n",
    "circ_cliff.h(0)\n",
    "circ_cliff.cx(0, 1)\n",
    "circ_cliff.cx(1, 2)\n",
    "circ_cliff.barrier()\n",
    "circ_cliff.measure([0, 1, 2], [0, 1, 2])  # Ideal '000'\n",
    "\n",
    "# Non-Clifford circuit\n",
    "circ_noncliff = QuantumCircuit(3, 3)\n",
    "circ_noncliff.h(0)\n",
    "circ_noncliff.t(1)\n",
    "circ_noncliff.cx(1, 2)\n",
    "circ_noncliff.barrier()\n",
    "circ_noncliff.measure([0, 1, 2], [0, 1, 2])  # Ideal '110'"
   ]
  },
  {
   "cell_type": "code",
   "execution_count": null,
   "id": "7fbfc00b-7f7c-47dd-b271-1dd2ab009990",
   "metadata": {},
   "outputs": [],
   "source": [
    "# Create depolarizing noise model\n",
    "noise_model = NoiseModel()\n",
    "error_1q = depolarizing_error(0.01, 1)\n",
    "error_2q = depolarizing_error(0.02, 2)\n",
    "noise_model.add_all_qubit_quantum_error(error_1q, ['u1','u2','u3','x','h'])\n",
    "noise_model.add_all_qubit_quantum_error(error_2q, ['cx'])\n",
    "\n",
    "# Initialize Aer simulator\n",
    "sim = AerSimulator(noise_model=noise_model)"
   ]
  },
  {
   "cell_type": "code",
   "execution_count": null,
   "id": "e2b76da6-3549-4a54-b315-5c85a3754d3d",
   "metadata": {},
   "outputs": [],
   "source": [
    "threshold = 0.90\n",
    "shots_per_iter = 50\n",
    "max_iters = 20\n",
    "\n",
    "results = {}\n",
    "\n",
    "for name, circ in [('Clifford', circ_cliff), ('Non-Clifford', circ_noncliff)]:\n",
    "    total_success = 0\n",
    "    lower_bounds = []\n",
    "    x_vals = []\n",
    "\n",
    "    for i in range(max_iters):\n",
    "        result = sim.run(transpile(circ, sim), shots=shots_per_iter).result()\n",
    "        counts = result.get_counts()\n",
    "        target = '000' if name == 'Clifford' else '110'\n",
    "        succ = counts.get(target, 0)\n",
    "        total_success += succ\n",
    "\n",
    "        total_shots = shots_per_iter * (i + 1)\n",
    "        lb, ub = proportion_confint(total_success, total_shots, alpha=0.05, method='wilson')\n",
    "        lower_bounds.append(lb)\n",
    "        x_vals.append(total_shots)\n",
    "\n",
    "        p_val = binom_test(total_success, total_shots, p=threshold, alternative='greater')\n",
    "        if p_val > 0.95:\n",
    "            break\n",
    "\n",
    "    results[name] = (x_vals, lower_bounds)"
   ]
  },
  {
   "cell_type": "code",
   "execution_count": null,
   "id": "cb4894e1-cec3-4d98-b08f-b6c733d29704",
   "metadata": {},
   "outputs": [],
   "source": [
    "plt.figure(figsize=(7,4))\n",
    "for name, (x, lb) in results.items():\n",
    "    plt.plot(x, lb, marker='o', label=f'{name} Circuit')\n",
    "\n",
    "plt.axhline(y=threshold, color='r', linestyle='--', label='Threshold = 0.90')\n",
    "plt.xlabel('Total Shots')\n",
    "plt.ylabel('Lower 95% Confidence Bound')\n",
    "plt.title('Adaptive Verification Confidence vs Samples')\n",
    "plt.legend()\n",
    "plt.grid(True)\n",
    "plt.show()"
   ]
  },
  {
   "cell_type": "code",
   "execution_count": null,
   "id": "ffef791c-df3b-4ca2-8685-1e9955e1927e",
   "metadata": {},
   "outputs": [],
   "source": []
  }
 ],
 "metadata": {
  "kernelspec": {
   "display_name": "Python 3 (ipykernel)",
   "language": "python",
   "name": "python3"
  },
  "language_info": {
   "codemirror_mode": {
    "name": "ipython",
    "version": 3
   },
   "file_extension": ".py",
   "mimetype": "text/x-python",
   "name": "python",
   "nbconvert_exporter": "python",
   "pygments_lexer": "ipython3",
   "version": "3.10.16"
  }
 },
 "nbformat": 4,
 "nbformat_minor": 5
}
