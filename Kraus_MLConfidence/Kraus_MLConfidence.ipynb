{
 "cells": [
  {
   "cell_type": "code",
   "execution_count": 3,
   "id": "fc9d6ea6-df64-4647-b66c-b5a3f0b59e20",
   "metadata": {},
   "outputs": [],
   "source": [
    "import numpy as np\n",
    "from sklearn.linear_model import LogisticRegression\n",
    "from sklearn.metrics import roc_curve, auc, accuracy_score\n",
    "from sklearn.model_selection import train_test_split\n",
    "import matplotlib.pyplot as plt"
   ]
  },
  {
   "cell_type": "code",
   "execution_count": 4,
   "id": "ea85e522-a723-4e37-8563-60a4cf16a421",
   "metadata": {},
   "outputs": [
    {
     "ename": "ValueError",
     "evalue": "alpha <= 0",
     "output_type": "error",
     "traceback": [
      "\u001b[1;31m---------------------------------------------------------------------------\u001b[0m",
      "\u001b[1;31mValueError\u001b[0m                                Traceback (most recent call last)",
      "Cell \u001b[1;32mIn[4], line 12\u001b[0m\n\u001b[0;32m     10\u001b[0m fidelity \u001b[38;5;241m=\u001b[39m \u001b[38;5;28mmax\u001b[39m(\u001b[38;5;241m0\u001b[39m, \u001b[38;5;241m1\u001b[39m \u001b[38;5;241m-\u001b[39m p \u001b[38;5;241m+\u001b[39m np\u001b[38;5;241m.\u001b[39mrandom\u001b[38;5;241m.\u001b[39mrandn()\u001b[38;5;241m*\u001b[39m\u001b[38;5;241m0.02\u001b[39m)\n\u001b[0;32m     11\u001b[0m \u001b[38;5;66;03m# Generate a synthetic 4‑state probability vector:\u001b[39;00m\n\u001b[1;32m---> 12\u001b[0m probs \u001b[38;5;241m=\u001b[39m \u001b[43mnp\u001b[49m\u001b[38;5;241;43m.\u001b[39;49m\u001b[43mrandom\u001b[49m\u001b[38;5;241;43m.\u001b[39;49m\u001b[43mdirichlet\u001b[49m\u001b[43m(\u001b[49m\u001b[43m[\u001b[49m\u001b[43m \u001b[49m\u001b[43m(\u001b[49m\u001b[38;5;241;43m1\u001b[39;49m\u001b[38;5;241;43m-\u001b[39;49m\u001b[43mfidelity\u001b[49m\u001b[43m)\u001b[49m\u001b[38;5;241;43m*\u001b[39;49m\u001b[38;5;241;43m10\u001b[39;49m\u001b[43m \u001b[49m\u001b[43m]\u001b[49m\u001b[38;5;241;43m*\u001b[39;49m\u001b[38;5;241;43m3\u001b[39;49m\u001b[43m \u001b[49m\u001b[38;5;241;43m+\u001b[39;49m\u001b[43m \u001b[49m\u001b[43m[\u001b[49m\u001b[43m \u001b[49m\u001b[43mfidelity\u001b[49m\u001b[38;5;241;43m*\u001b[39;49m\u001b[38;5;241;43m50\u001b[39;49m\u001b[43m \u001b[49m\u001b[43m]\u001b[49m\u001b[43m)\u001b[49m\n\u001b[0;32m     13\u001b[0m data\u001b[38;5;241m.\u001b[39mappend(probs)\n\u001b[0;32m     14\u001b[0m labels\u001b[38;5;241m.\u001b[39mappend(\u001b[38;5;28mint\u001b[39m(fidelity \u001b[38;5;241m>\u001b[39m\u001b[38;5;241m=\u001b[39m \u001b[38;5;241m0.8\u001b[39m))\n",
      "File \u001b[1;32mnumpy\\\\random\\\\mtrand.pyx:4533\u001b[0m, in \u001b[0;36mnumpy.random.mtrand.RandomState.dirichlet\u001b[1;34m()\u001b[0m\n",
      "\u001b[1;31mValueError\u001b[0m: alpha <= 0"
     ]
    }
   ],
   "source": [
    "# Parameters\n",
    "noise_levels = np.linspace(0.01, 0.10, 5)\n",
    "samples_per_level = 200\n",
    "\n",
    "data, labels, noise_list = [], [], []\n",
    "\n",
    "for p in noise_levels:\n",
    "    for _ in range(samples_per_level):\n",
    "        # Simulate fidelity in [0,1]\n",
    "        fidelity = 1 - p + np.random.randn() * 0.02\n",
    "        fidelity = np.clip(fidelity, 0.0, 1.0)\n",
    "\n",
    "        # Dirichlet parameters:\n",
    "        alpha_other = max((1 - fidelity) * 10, 0.1)  # floor at 0.1\n",
    "        alpha_target = max(fidelity * 50, 0.1)\n",
    "\n",
    "        # Generate a synthetic 4‑state probability vector:\n",
    "        probs = np.random.dirichlet([alpha_other]*3 + [alpha_target])\n",
    "\n",
    "        data.append(probs)\n",
    "        labels.append(int(fidelity >= 0.8))\n",
    "        noise_list.append(p)\n",
    "\n",
    "X = np.array(data)\n",
    "y = np.array(labels)\n",
    "noise_list = np.array(noise_list)\n",
    "\n",
    "print(f\"Dataset shape: {X.shape}, Positive labels: {y.sum()}\")"
   ]
  },
  {
   "cell_type": "code",
   "execution_count": 5,
   "id": "0ce2f59c-e91a-4394-92b0-e54f1271e753",
   "metadata": {},
   "outputs": [
    {
     "ename": "NameError",
     "evalue": "name 'X' is not defined",
     "output_type": "error",
     "traceback": [
      "\u001b[1;31m---------------------------------------------------------------------------\u001b[0m",
      "\u001b[1;31mNameError\u001b[0m                                 Traceback (most recent call last)",
      "Cell \u001b[1;32mIn[5], line 2\u001b[0m\n\u001b[0;32m      1\u001b[0m X_train, X_test, y_train, y_test, noise_train, noise_test \u001b[38;5;241m=\u001b[39m train_test_split(\n\u001b[1;32m----> 2\u001b[0m     \u001b[43mX\u001b[49m, y, noise_list, test_size\u001b[38;5;241m=\u001b[39m\u001b[38;5;241m0.3\u001b[39m, random_state\u001b[38;5;241m=\u001b[39m\u001b[38;5;241m42\u001b[39m\n\u001b[0;32m      3\u001b[0m )\n\u001b[0;32m      5\u001b[0m clf \u001b[38;5;241m=\u001b[39m LogisticRegression(max_iter\u001b[38;5;241m=\u001b[39m\u001b[38;5;241m1000\u001b[39m)\u001b[38;5;241m.\u001b[39mfit(X_train, y_train)\n\u001b[0;32m      6\u001b[0m y_pred \u001b[38;5;241m=\u001b[39m clf\u001b[38;5;241m.\u001b[39mpredict(X_test)\n",
      "\u001b[1;31mNameError\u001b[0m: name 'X' is not defined"
     ]
    }
   ],
   "source": [
    "X_train, X_test, y_train, y_test, noise_train, noise_test = train_test_split(\n",
    "    X, y, noise_list, test_size=0.3, random_state=42\n",
    ")\n",
    "\n",
    "clf = LogisticRegression(max_iter=1000).fit(X_train, y_train)\n",
    "y_pred = clf.predict(X_test)\n",
    "y_score = clf.predict_proba(X_test)[:,1]\n",
    "\n",
    "print(f\"Test Accuracy: {accuracy_score(y_test, y_pred):.2f}\")"
   ]
  },
  {
   "cell_type": "code",
   "execution_count": 6,
   "id": "d1328e9e-abf3-4567-9337-8763bcd13c7d",
   "metadata": {},
   "outputs": [
    {
     "ename": "NameError",
     "evalue": "name 'y_test' is not defined",
     "output_type": "error",
     "traceback": [
      "\u001b[1;31m---------------------------------------------------------------------------\u001b[0m",
      "\u001b[1;31mNameError\u001b[0m                                 Traceback (most recent call last)",
      "Cell \u001b[1;32mIn[6], line 1\u001b[0m\n\u001b[1;32m----> 1\u001b[0m fpr, tpr, _ \u001b[38;5;241m=\u001b[39m roc_curve(\u001b[43my_test\u001b[49m, y_score)\n\u001b[0;32m      2\u001b[0m roc_auc \u001b[38;5;241m=\u001b[39m auc(fpr, tpr)\n\u001b[0;32m      4\u001b[0m plt\u001b[38;5;241m.\u001b[39mfigure(figsize\u001b[38;5;241m=\u001b[39m(\u001b[38;5;241m6\u001b[39m,\u001b[38;5;241m4\u001b[39m))\n",
      "\u001b[1;31mNameError\u001b[0m: name 'y_test' is not defined"
     ]
    }
   ],
   "source": [
    "fpr, tpr, _ = roc_curve(y_test, y_score)\n",
    "roc_auc = auc(fpr, tpr)\n",
    "\n",
    "plt.figure(figsize=(6,4))\n",
    "plt.plot(fpr, tpr, label=f'LogReg (AUC={roc_auc:.2f})')\n",
    "plt.plot([0,1],[0,1],'k--')\n",
    "plt.xlabel('False Positive Rate')\n",
    "plt.ylabel('True Positive Rate')\n",
    "plt.title('ROC Curve (Synthetic)')\n",
    "plt.legend()\n",
    "plt.grid(True)\n",
    "plt.savefig('roc_curve.png', dpi=300)\n",
    "plt.show()"
   ]
  },
  {
   "cell_type": "code",
   "execution_count": 7,
   "id": "26c4a043-74ad-48ae-a050-a031fed3a408",
   "metadata": {},
   "outputs": [
    {
     "ename": "NameError",
     "evalue": "name 'noise_test' is not defined",
     "output_type": "error",
     "traceback": [
      "\u001b[1;31m---------------------------------------------------------------------------\u001b[0m",
      "\u001b[1;31mNameError\u001b[0m                                 Traceback (most recent call last)",
      "Cell \u001b[1;32mIn[7], line 1\u001b[0m\n\u001b[1;32m----> 1\u001b[0m noise_vals \u001b[38;5;241m=\u001b[39m \u001b[38;5;28msorted\u001b[39m(np\u001b[38;5;241m.\u001b[39munique(\u001b[43mnoise_test\u001b[49m))\n\u001b[0;32m      2\u001b[0m acc_vs_noise \u001b[38;5;241m=\u001b[39m [\n\u001b[0;32m      3\u001b[0m     accuracy_score(y_test[noise_test\u001b[38;5;241m==\u001b[39mp], y_pred[noise_test\u001b[38;5;241m==\u001b[39mp])\n\u001b[0;32m      4\u001b[0m     \u001b[38;5;28;01mfor\u001b[39;00m p \u001b[38;5;129;01min\u001b[39;00m noise_vals\n\u001b[0;32m      5\u001b[0m ]\n\u001b[0;32m      7\u001b[0m plt\u001b[38;5;241m.\u001b[39mfigure(figsize\u001b[38;5;241m=\u001b[39m(\u001b[38;5;241m6\u001b[39m,\u001b[38;5;241m4\u001b[39m))\n",
      "\u001b[1;31mNameError\u001b[0m: name 'noise_test' is not defined"
     ]
    }
   ],
   "source": [
    "noise_vals = sorted(np.unique(noise_test))\n",
    "acc_vs_noise = [\n",
    "    accuracy_score(y_test[noise_test==p], y_pred[noise_test==p])\n",
    "    for p in noise_vals\n",
    "]\n",
    "\n",
    "plt.figure(figsize=(6,4))\n",
    "plt.plot(noise_vals, acc_vs_noise, 'o-')\n",
    "plt.xlabel('Depolarizing Noise Level')\n",
    "plt.ylabel('Accuracy')\n",
    "plt.title('Accuracy vs Noise (Synthetic)')\n",
    "plt.grid(True)\n",
    "plt.savefig('accuracy_vs_noise.png', dpi=300)\n",
    "plt.show()"
   ]
  },
  {
   "cell_type": "code",
   "execution_count": null,
   "id": "cd497122-2bd9-41aa-a830-1a5e1cead2ca",
   "metadata": {},
   "outputs": [],
   "source": []
  }
 ],
 "metadata": {
  "kernelspec": {
   "display_name": "Python 3 (ipykernel)",
   "language": "python",
   "name": "python3"
  },
  "language_info": {
   "codemirror_mode": {
    "name": "ipython",
    "version": 3
   },
   "file_extension": ".py",
   "mimetype": "text/x-python",
   "name": "python",
   "nbconvert_exporter": "python",
   "pygments_lexer": "ipython3",
   "version": "3.10.16"
  }
 },
 "nbformat": 4,
 "nbformat_minor": 5
}
