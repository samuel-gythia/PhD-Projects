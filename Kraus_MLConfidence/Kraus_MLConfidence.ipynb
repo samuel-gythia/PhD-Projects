{
 "cells": [
  {
   "cell_type": "code",
   "execution_count": null,
   "id": "fc9d6ea6-df64-4647-b66c-b5a3f0b59e20",
   "metadata": {},
   "outputs": [],
   "source": [
    "import numpy as np\n",
    "from qiskit import QuantumCircuit, transpile\n",
    "from qiskit.providers.aer import AerSimulator\n",
    "from qiskit.providers.aer.noise import NoiseModel, depolarizing_error\n",
    "from sklearn.linear_model import LogisticRegression\n",
    "from sklearn.metrics import roc_curve, auc, accuracy_score\n",
    "from sklearn.model_selection import train_test_split\n",
    "import matplotlib.pyplot as plt"
   ]
  },
  {
   "cell_type": "code",
   "execution_count": null,
   "id": "ea85e522-a723-4e37-8563-60a4cf16a421",
   "metadata": {},
   "outputs": [],
   "source": [
    "circ = QuantumCircuit(2,2)\n",
    "circ.x(0); circ.x(1)\n",
    "circ.barrier()\n",
    "circ.measure([0,1],[0,1])\n",
    "\n",
    "noise_levels = np.linspace(0.01, 0.10, 5)\n",
    "shots = 512\n",
    "data, labels, noise_list = [], [], []\n",
    "\n",
    "for p in noise_levels:\n",
    "    nm = NoiseModel()\n",
    "    err = depolarizing_error(p, 2)\n",
    "    nm.add_all_qubit_quantum_error(err, ['x','cx'])\n",
    "    sim = AerSimulator(noise_model=nm)\n",
    "    for _ in range(20):\n",
    "        res = sim.run(transpile(circ, sim), shots=shots).result()\n",
    "        counts = res.get_counts()\n",
    "        probs = [counts.get(s,0)/shots for s in ['00','01','10','11']]\n",
    "        fidelity = counts.get('11',0)/shots\n",
    "        data.append(probs)\n",
    "        labels.append(int(fidelity>=0.8))\n",
    "        noise_list.append(p)\n",
    "\n",
    "X = np.array(data)\n",
    "y = np.array(labels)"
   ]
  },
  {
   "cell_type": "code",
   "execution_count": null,
   "id": "0ce2f59c-e91a-4394-92b0-e54f1271e753",
   "metadata": {},
   "outputs": [],
   "source": [
    "X_train, X_test, y_train, y_test, noise_train, noise_test = train_test_split(\n",
    "    X, y, noise_list, test_size=0.3, random_state=42)\n",
    "\n",
    "clf = LogisticRegression(max_iter=1000).fit(X_train, y_train)\n",
    "y_pred = clf.predict(X_test)\n",
    "y_score = clf.predict_proba(X_test)[:,1]\n",
    "\n",
    "acc = accuracy_score(y_test, y_pred)\n",
    "print(f\"Test Accuracy: {acc:.2f}\")"
   ]
  },
  {
   "cell_type": "code",
   "execution_count": null,
   "id": "d1328e9e-abf3-4567-9337-8763bcd13c7d",
   "metadata": {},
   "outputs": [],
   "source": []
  }
 ],
 "metadata": {
  "kernelspec": {
   "display_name": "Python 3 (ipykernel)",
   "language": "python",
   "name": "python3"
  },
  "language_info": {
   "codemirror_mode": {
    "name": "ipython",
    "version": 3
   },
   "file_extension": ".py",
   "mimetype": "text/x-python",
   "name": "python",
   "nbconvert_exporter": "python",
   "pygments_lexer": "ipython3",
   "version": "3.10.16"
  }
 },
 "nbformat": 4,
 "nbformat_minor": 5
}
