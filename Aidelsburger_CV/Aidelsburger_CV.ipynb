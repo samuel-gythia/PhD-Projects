{
 "cells": [
  {
   "cell_type": "code",
   "execution_count": null,
   "id": "fdafc0d3-4e4a-4132-a0fc-4a6721d1fced",
   "metadata": {},
   "outputs": [],
   "source": [
    "!pip install qutip matplotlib numpy\n",
    "\n",
    "# Imports\n",
    "import numpy as np\n",
    "import matplotlib.pyplot as plt\n",
    "from qutip import destroy, basis, sesolve, expect, tensor, qeye, squeeze, expm, ptrace, wigner"
   ]
  },
  {
   "cell_type": "code",
   "execution_count": null,
   "id": "b609eccd-339b-42ef-a437-f449fc5f24a5",
   "metadata": {},
   "outputs": [],
   "source": []
  },
  {
   "cell_type": "code",
   "execution_count": null,
   "id": "3cf3f4e0-1d5a-44e3-937f-5a9a590dda73",
   "metadata": {},
   "outputs": [],
   "source": []
  }
 ],
 "metadata": {
  "kernelspec": {
   "display_name": "Python 3 (ipykernel)",
   "language": "python",
   "name": "python3"
  },
  "language_info": {
   "codemirror_mode": {
    "name": "ipython",
    "version": 3
   },
   "file_extension": ".py",
   "mimetype": "text/x-python",
   "name": "python",
   "nbconvert_exporter": "python",
   "pygments_lexer": "ipython3",
   "version": "3.10.16"
  }
 },
 "nbformat": 4,
 "nbformat_minor": 5
}
