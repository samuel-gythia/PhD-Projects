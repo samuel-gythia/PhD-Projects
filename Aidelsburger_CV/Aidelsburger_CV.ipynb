{
 "cells": [
  {
   "cell_type": "code",
   "execution_count": null,
   "id": "fdafc0d3-4e4a-4132-a0fc-4a6721d1fced",
   "metadata": {},
   "outputs": [],
   "source": [
    "!pip install qutip matplotlib numpy\n",
    "\n",
    "# Imports\n",
    "import numpy as np\n",
    "import matplotlib.pyplot as plt\n",
    "from qutip import destroy, basis, sesolve, expect, tensor, qeye, squeeze, expm, ptrace, wigner"
   ]
  },
  {
   "cell_type": "code",
   "execution_count": null,
   "id": "b609eccd-339b-42ef-a437-f449fc5f24a5",
   "metadata": {},
   "outputs": [],
   "source": [
    "##Project 1: Squeezed-Vacuum Dynamics"
   ]
  },
  {
   "cell_type": "code",
   "execution_count": null,
   "id": "3cf3f4e0-1d5a-44e3-937f-5a9a590dda73",
   "metadata": {},
   "outputs": [],
   "source": [
    "# Parameters\n",
    "N = 20                # Fock basis size\n",
    "r = 0.8               # squeezing strength\n",
    "t_list = np.linspace(0, 2, 200)\n",
    "\n",
    "# Operators\n",
    "a = destroy(N)\n",
    "H_single = 1j * r * (a.dag()**2 - a**2)\n",
    "psi0 = basis(N, 0)\n",
    "\n",
    "# Solve dynamics\n",
    "res1 = sesolve(H_single, psi0, t_list, [])\n",
    "\n",
    "# Quadratures\n",
    "X = (a + a.dag())/np.sqrt(2)\n",
    "P = (a - a.dag())/(1j*np.sqrt(2))\n",
    "varX = [expect(X**2, st) - expect(X, st)**2 for st in res1.states]\n",
    "varP = [expect(P**2, st) - expect(P, st)**2 for st in res1.states]"
   ]
  },
  {
   "cell_type": "code",
   "execution_count": null,
   "id": "27f56022-3581-425f-b609-813116955d96",
   "metadata": {},
   "outputs": [],
   "source": [
    "# Plot Single‑Mode Squeezing\n",
    "plt.figure(figsize=(6,4))\n",
    "plt.plot(t_list, varX, label='Var(X)')\n",
    "plt.plot(t_list, varP, label='Var(P)')\n",
    "plt.xlabel('Time')\n",
    "plt.ylabel('Variance')\n",
    "plt.title('Single‑Mode Squeezed Vacuum Dynamics')\n",
    "plt.legend(); plt.grid(True)\n",
    "plt.savefig('single_mode_squeezing.png', dpi=300)\n",
    "plt.show()"
   ]
  },
  {
   "cell_type": "code",
   "execution_count": null,
   "id": "bf0b5d66-409d-4eb6-ac14-98c37ce2044c",
   "metadata": {},
   "outputs": [],
   "source": [
    "# Two‑mode parameters\n",
    "N = 15\n",
    "r2 = 0.8\n",
    "t_list2 = np.linspace(0, 2, 200)\n",
    "a, b = destroy(N), destroy(N)\n",
    "H_two = 1j * r2 * (tensor(a.dag(), b.dag()) - tensor(a, b))\n",
    "psi0_2 = tensor(basis(N,0), basis(N,0))\n",
    "\n",
    "res2 = sesolve(H_two, psi0_2, t_list2, [])\n",
    "X1 = (tensor(a, qeye(N)) + tensor(a.dag(), qeye(N)))/np.sqrt(2)\n",
    "X2 = (tensor(qeye(N), b) + tensor(qeye(N), b.dag()))/np.sqrt(2)\n",
    "varX1 = [expect(X1**2, st) - expect(X1, st)**2 for st in res2.states]\n",
    "varX2 = [expect(X2**2, st) - expect(X2, st)**2 for st in res2.states]"
   ]
  },
  {
   "cell_type": "code",
   "execution_count": null,
   "id": "ac7b45bf-9e85-4b44-be0d-f437569648ab",
   "metadata": {},
   "outputs": [],
   "source": [
    "# Plot Two‑Mode Squeezing\n",
    "plt.figure(figsize=(6,4))\n",
    "plt.plot(t_list2, varX1, label='Var(X1)')\n",
    "plt.plot(t_list2, varX2, label='Var(X2)')\n",
    "plt.xlabel('Time')\n",
    "plt.ylabel('Variance')\n",
    "plt.title('Two‑Mode Squeezed Vacuum Dynamics')\n",
    "plt.legend(); plt.grid(True)\n",
    "plt.savefig('two_mode_squeezing.png', dpi=300)\n",
    "plt.show()"
   ]
  }
 ],
 "metadata": {
  "kernelspec": {
   "display_name": "Python 3 (ipykernel)",
   "language": "python",
   "name": "python3"
  },
  "language_info": {
   "codemirror_mode": {
    "name": "ipython",
    "version": 3
   },
   "file_extension": ".py",
   "mimetype": "text/x-python",
   "name": "python",
   "nbconvert_exporter": "python",
   "pygments_lexer": "ipython3",
   "version": "3.10.16"
  }
 },
 "nbformat": 4,
 "nbformat_minor": 5
}
