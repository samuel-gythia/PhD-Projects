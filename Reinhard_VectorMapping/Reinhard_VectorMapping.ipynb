{
 "cells": [
  {
   "cell_type": "code",
   "execution_count": null,
   "id": "d3fdc780-5f9e-471f-a41a-2c81c98d1aed",
   "metadata": {},
   "outputs": [],
   "source": [
    "import numpy as np\n",
    "import matplotlib.pyplot as plt\n",
    "from matplotlib import cm\n"
   ]
  },
  {
   "cell_type": "code",
   "execution_count": null,
   "id": "22173b37-654b-4eac-9978-bc435eeafb81",
   "metadata": {},
   "outputs": [],
   "source": [
    "# Grid parameters\n",
    "nx, ny = 20, 20            # resolution of scan\n",
    "x = np.linspace(-5, 5, nx) # µm\n",
    "y = np.linspace(-5, 5, ny) # µm\n",
    "X, Y = np.meshgrid(x, y)\n",
    "\n",
    "# Simulated “true” vector field: radial pattern + noise\n",
    "def true_field(X, Y):\n",
    "    R = np.sqrt(X**2 + Y**2) + 1e-6\n",
    "    Ex = -Y / R\n",
    "    Ey = X / R\n",
    "    return Ex, Ey\n",
    "\n",
    "# Noise level\n",
    "noise_amp = 0.1\n"
   ]
  }
 ],
 "metadata": {
  "kernelspec": {
   "display_name": "Python 3 (ipykernel)",
   "language": "python",
   "name": "python3"
  },
  "language_info": {
   "codemirror_mode": {
    "name": "ipython",
    "version": 3
   },
   "file_extension": ".py",
   "mimetype": "text/x-python",
   "name": "python",
   "nbconvert_exporter": "python",
   "pygments_lexer": "ipython3",
   "version": "3.10.16"
  }
 },
 "nbformat": 4,
 "nbformat_minor": 5
}
