{
 "cells": [
  {
   "cell_type": "code",
   "execution_count": null,
   "id": "1e99f135-de60-4f39-b3de-6138bc61aae9",
   "metadata": {},
   "outputs": [],
   "source": [
    "# Imports & State Helpers\n",
    "\n",
    "import numpy as np\n",
    "import matplotlib.pyplot as plt\n",
    "from itertools import product\n",
    "\n",
    "# Convert integer index → bit list of length N_total\n",
    "def state_bits(idx, N_total):\n",
    "    return [(idx >> b) & 1 for b in range(N_total)]\n",
    "\n",
    "# Convert bit list → integer index\n",
    "def bits_to_index(bits):\n",
    "    idx = 0\n",
    "    for b, val in enumerate(bits):\n",
    "        idx |= (val << b)\n",
    "    return idx"
   ]
  },
  {
   "cell_type": "code",
   "execution_count": null,
   "id": "aeed87f6-e85a-44e5-8f97-b2847c90b72d",
   "metadata": {},
   "outputs": [],
   "source": []
  }
 ],
 "metadata": {
  "kernelspec": {
   "display_name": "Python 3 (ipykernel)",
   "language": "python",
   "name": "python3"
  },
  "language_info": {
   "codemirror_mode": {
    "name": "ipython",
    "version": 3
   },
   "file_extension": ".py",
   "mimetype": "text/x-python",
   "name": "python",
   "nbconvert_exporter": "python",
   "pygments_lexer": "ipython3",
   "version": "3.10.16"
  }
 },
 "nbformat": 4,
 "nbformat_minor": 5
}
