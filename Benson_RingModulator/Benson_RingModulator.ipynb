{
 "cells": [
  {
   "cell_type": "code",
   "execution_count": 4,
   "id": "0fcb3d7c-310f-457c-89d9-8e3d7777d783",
   "metadata": {},
   "outputs": [],
   "source": [
    "import numpy as np\n",
    "import matplotlib.pyplot as plt\n"
   ]
  },
  {
   "cell_type": "code",
   "execution_count": 5,
   "id": "afaa1e1d-0411-45fe-bad2-e691d9e37176",
   "metadata": {},
   "outputs": [],
   "source": [
    "# From Prof. Benson’s device specs:\n",
    "ring_radius = 5.0       #radius\n",
    "index_change = [0.001, 0.002, 0.005, 0.01]  # fictive Δn for phase shift\n",
    "wavelength = 1.55       #length\n"
   ]
  },
  {
   "cell_type": "code",
   "execution_count": 6,
   "id": "cf7e86a1-f39a-44f4-a3b2-408358f13250",
   "metadata": {},
   "outputs": [],
   "source": [
    "def phase_flip_efficiency(delta_n):\n",
    "    # simple sinusoidal proxy: efficiency = cos²(π·delta_n·L/λ)\n",
    "    L = 2 * np.pi * ring_radius  # circumference\n",
    "    phi = 2 * np.pi * delta_n * L / wavelength\n",
    "    return np.cos(phi)**2\n"
   ]
  },
  {
   "cell_type": "code",
   "execution_count": null,
   "id": "6fa49c11-086b-4258-ac66-73bbbc256c01",
   "metadata": {},
   "outputs": [],
   "source": []
  }
 ],
 "metadata": {
  "kernelspec": {
   "display_name": "Python 3 (ipykernel)",
   "language": "python",
   "name": "python3"
  },
  "language_info": {
   "codemirror_mode": {
    "name": "ipython",
    "version": 3
   },
   "file_extension": ".py",
   "mimetype": "text/x-python",
   "name": "python",
   "nbconvert_exporter": "python",
   "pygments_lexer": "ipython3",
   "version": "3.10.16"
  }
 },
 "nbformat": 4,
 "nbformat_minor": 5
}
