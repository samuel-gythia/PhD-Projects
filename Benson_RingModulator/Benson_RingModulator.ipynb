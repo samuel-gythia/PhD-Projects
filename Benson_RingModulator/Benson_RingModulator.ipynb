{
 "cells": [
  {
   "cell_type": "code",
   "execution_count": 1,
   "id": "0fcb3d7c-310f-457c-89d9-8e3d7777d783",
   "metadata": {},
   "outputs": [],
   "source": [
    "import numpy as np\n",
    "import matplotlib.pyplot as plt\n"
   ]
  },
  {
   "cell_type": "code",
   "execution_count": 2,
   "id": "afaa1e1d-0411-45fe-bad2-e691d9e37176",
   "metadata": {},
   "outputs": [],
   "source": [
    "# From Prof. Benson’s device specs:\n",
    "ring_radius = 5.0       \n",
    "index_change = [0.001, 0.002, 0.005, 0.01]  # fictive Δn for phase shift\n",
    "wavelength = 1.55       \n"
   ]
  },
  {
   "cell_type": "code",
   "execution_count": null,
   "id": "cf7e86a1-f39a-44f4-a3b2-408358f13250",
   "metadata": {},
   "outputs": [],
   "source": []
  }
 ],
 "metadata": {
  "kernelspec": {
   "display_name": "Python 3 (ipykernel)",
   "language": "python",
   "name": "python3"
  },
  "language_info": {
   "codemirror_mode": {
    "name": "ipython",
    "version": 3
   },
   "file_extension": ".py",
   "mimetype": "text/x-python",
   "name": "python",
   "nbconvert_exporter": "python",
   "pygments_lexer": "ipython3",
   "version": "3.10.16"
  }
 },
 "nbformat": 4,
 "nbformat_minor": 5
}
