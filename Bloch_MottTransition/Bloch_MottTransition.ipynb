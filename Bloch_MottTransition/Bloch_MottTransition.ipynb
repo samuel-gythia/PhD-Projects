{
 "cells": [
  {
   "cell_type": "code",
   "execution_count": null,
   "id": "0df3d718-046d-476d-a0f9-8df27bec8d9c",
   "metadata": {},
   "outputs": [],
   "source": [
    "# Imports & helper functions\n",
    "import numpy as np\n",
    "import matplotlib.pyplot as plt\n",
    "from itertools import combinations_with_replacement\n",
    "\n",
    "# Helper: generate Fock basis for nsites, nbosons\n",
    "def gen_basis(nsites, nbosons):\n",
    "    if nsites == 1:\n",
    "        return [[nbosons]]\n",
    "    basis = []\n",
    "    for k in range(nbosons+1):\n",
    "        for rest in gen_basis(nsites-1, nbosons-k):\n",
    "            basis.append([k] + rest)\n",
    "    return basis"
   ]
  },
  {
   "cell_type": "code",
   "execution_count": null,
   "id": "2a0e2a15-4ece-4642-96c9-0c9b90d19fd1",
   "metadata": {},
   "outputs": [],
   "source": [
    "# Project 1 : 2‑Site Bose–Hubbard ED"
   ]
  },
  {
   "cell_type": "code",
   "execution_count": null,
   "id": "665aac14-06a9-4742-90c1-517eef4ab341",
   "metadata": {},
   "outputs": [],
   "source": [
    "# **Build & Diagonalize**\n",
    "\n",
    "# Parameters\n",
    "J = 1.0\n",
    "U_vals = np.linspace(0, 30, 301)\n",
    "\n",
    "# 2‑boson on 2‑site basis\n",
    "basis2 = [(2,0),(1,1),(0,2)]\n",
    "idx2 = {s:i for i,s in enumerate(basis2)}\n",
    "\n",
    "def H2(U):\n",
    "    H = np.zeros((3,3))\n",
    "    # On‑site U terms\n",
    "    for (n1,n2),i in idx2.items():\n",
    "        H[i,i] = 0.5*U*(n1*(n1-1)+n2*(n2-1))\n",
    "    # Hopping\n",
    "    for (n1,n2),i in idx2.items():\n",
    "        if n2>0:\n",
    "            j = idx2[(n1+1,n2-1)]\n",
    "            amp = np.sqrt((n1+1)*n2)\n",
    "            H[i,j] += -J*amp; H[j,i] += -J*amp\n",
    "    return H\n",
    "\n",
    "energies = np.array([np.sort(np.linalg.eigvalsh(H2(U))) for U in U_vals])"
   ]
  },
  {
   "cell_type": "code",
   "execution_count": null,
   "id": "03e1434e-f019-4e28-a997-6fae5711bb76",
   "metadata": {},
   "outputs": [],
   "source": [
    "# **Plot Spectrum**\n",
    "\n",
    "plt.figure(figsize=(6,4))\n",
    "for mode in range(3):\n",
    "    plt.plot(U_vals, energies[:,mode], label=f\"Level {mode}\")\n",
    "plt.xlabel('U/J'); plt.ylabel('Energy')\n",
    "plt.title('2‑Site BH Spectrum vs U/J')\n",
    "plt.legend(); plt.grid(True)\n",
    "plt.savefig('bloch_BH2_spectrum.png', dpi=300)\n",
    "plt.show()"
   ]
  },
  {
   "cell_type": "code",
   "execution_count": null,
   "id": "6720bd61-7a96-454c-8dcc-6e8bc621e679",
   "metadata": {},
   "outputs": [],
   "source": []
  }
 ],
 "metadata": {
  "kernelspec": {
   "display_name": "Python 3 (ipykernel)",
   "language": "python",
   "name": "python3"
  },
  "language_info": {
   "codemirror_mode": {
    "name": "ipython",
    "version": 3
   },
   "file_extension": ".py",
   "mimetype": "text/x-python",
   "name": "python",
   "nbconvert_exporter": "python",
   "pygments_lexer": "ipython3",
   "version": "3.10.16"
  }
 },
 "nbformat": 4,
 "nbformat_minor": 5
}
