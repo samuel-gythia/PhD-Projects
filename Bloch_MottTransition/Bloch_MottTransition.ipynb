{
 "cells": [
  {
   "cell_type": "code",
   "execution_count": null,
   "id": "0df3d718-046d-476d-a0f9-8df27bec8d9c",
   "metadata": {},
   "outputs": [],
   "source": [
    "# Imports & helper functions\n",
    "import numpy as np\n",
    "import matplotlib.pyplot as plt\n",
    "from itertools import combinations_with_replacement\n",
    "\n",
    "# Helper: generate Fock basis for nsites, nbosons\n",
    "def gen_basis(nsites, nbosons):\n",
    "    if nsites == 1:\n",
    "        return [[nbosons]]\n",
    "    basis = []\n",
    "    for k in range(nbosons+1):\n",
    "        for rest in gen_basis(nsites-1, nbosons-k):\n",
    "            basis.append([k] + rest)\n",
    "    return basis"
   ]
  },
  {
   "cell_type": "code",
   "execution_count": null,
   "id": "2a0e2a15-4ece-4642-96c9-0c9b90d19fd1",
   "metadata": {},
   "outputs": [],
   "source": []
  }
 ],
 "metadata": {
  "kernelspec": {
   "display_name": "Python 3 (ipykernel)",
   "language": "python",
   "name": "python3"
  },
  "language_info": {
   "codemirror_mode": {
    "name": "ipython",
    "version": 3
   },
   "file_extension": ".py",
   "mimetype": "text/x-python",
   "name": "python",
   "nbconvert_exporter": "python",
   "pygments_lexer": "ipython3",
   "version": "3.10.16"
  }
 },
 "nbformat": 4,
 "nbformat_minor": 5
}
