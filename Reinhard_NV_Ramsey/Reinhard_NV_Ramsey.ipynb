{
 "cells": [
  {
   "cell_type": "code",
   "execution_count": 1,
   "id": "316cd21c-babb-42e3-bca8-cfc9dba6e632",
   "metadata": {},
   "outputs": [],
   "source": [
    "import numpy as np\n",
    "import matplotlib.pyplot as plt\n",
    "# QuTiP if you want real: import qutip as qt\n"
   ]
  },
  {
   "cell_type": "code",
   "execution_count": null,
   "id": "0fc409dd-59a0-4c33-9353-1f3a163d2c50",
   "metadata": {},
   "outputs": [],
   "source": [
    "# NV‑Centre Vector Magnetometry (Ramsey Simulation)\n",
    "\n",
    "This notebook simulates an NV‑centre Ramsey sequence under a 3‑axis magnetic field sweep.\n",
    "\n",
    "**Parameters**  \n",
    "- Magnetic field vector range: [0, 50, 100] µT in x, y, z  \n",
    "- Decoherence time T2 = 100 µs  \n",
    "- Ramsey free evolution times: linspace(0, 200, 100) µs\n"
   ]
  }
 ],
 "metadata": {
  "kernelspec": {
   "display_name": "Python 3 (ipykernel)",
   "language": "python",
   "name": "python3"
  },
  "language_info": {
   "codemirror_mode": {
    "name": "ipython",
    "version": 3
   },
   "file_extension": ".py",
   "mimetype": "text/x-python",
   "name": "python",
   "nbconvert_exporter": "python",
   "pygments_lexer": "ipython3",
   "version": "3.10.16"
  }
 },
 "nbformat": 4,
 "nbformat_minor": 5
}
