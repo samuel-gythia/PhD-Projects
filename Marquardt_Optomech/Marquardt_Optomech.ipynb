{
 "cells": [
  {
   "cell_type": "code",
   "execution_count": null,
   "id": "4b3c4584-dc38-4dd5-babf-d0ad75c1586f",
   "metadata": {},
   "outputs": [],
   "source": [
    "#  Imports & Parameters\n",
    "\n",
    "import numpy as np\n",
    "import matplotlib.pyplot as plt\n",
    "from qutip import destroy, qeye, tensor, mesolve, expect\n",
    "\n",
    "# System parameters\n",
    "omega_m = 1.0       # mechanical frequency\n",
    "Delta = -omega_m    # detuning for cooling\n",
    "g0 = 0.1            # single-photon coupling\n",
    "g_eff = 0.2        # effective coupling\n",
    "gamma = 0.01       # mechanical damping\n",
    "kappa_res = 0.1     # resolved-sideband\n",
    "kappa_dop = 3.0     # Doppler regime\n",
    "\n",
    "N_cav = 6           # cavity levels\n",
    "N_mec = 10          # mechanical levels\n",
    "tlist = np.linspace(0,20,200)"
   ]
  },
  {
   "cell_type": "code",
   "execution_count": null,
   "id": "197051d8-3fa3-4c80-93d4-8acf4644d0fa",
   "metadata": {},
   "outputs": [],
   "source": [
    "#  Project 1 – Phonon Decay Simulation"
   ]
  },
  {
   "cell_type": "code",
   "execution_count": null,
   "id": "ab5741ea-9b6e-4e58-b18f-e0eb3f162275",
   "metadata": {},
   "outputs": [],
   "source": [
    "# Operators\n",
    "a = destroy(N_cav)\n",
    "b = destroy(N_mec)\n",
    "I_c = qeye(N_cav)\n",
    "I_m = qeye(N_mec)\n",
    "a_tot = tensor(a, I_m)\n",
    "b_tot = tensor(I_c, b)\n",
    "\n",
    "# Hamiltonian\n",
    "H = (-Delta)*a_tot.dag()*a_tot + omega_m*b_tot.dag()*b_tot + \\\n",
    "    g0 * a_tot.dag()*a_tot*(b_tot + b_tot.dag()) + \\\n",
    "    g_eff * (a_tot + a_tot.dag())"
   ]
  },
  {
   "cell_type": "code",
   "execution_count": null,
   "id": "62ab2b9e-94b6-4585-a61c-6dc08c59875a",
   "metadata": {},
   "outputs": [],
   "source": [
    "# Collapse operators\n",
    "c_ops_res = [np.sqrt(kappa_res)*a_tot, np.sqrt(gamma)*b_tot]\n",
    "c_ops_dop = [np.sqrt(kappa_dop) *a_tot, np.sqrt(gamma)*b_tot]\n",
    "\n",
    "# Initial state\n",
    "data thermal_dm\n",
    "from qutip import basis, thermal_dm\n",
    "rho0 = tensor(basis(N_cav,0)*basis(N_cav,0).dag(), thermal_dm(N_mec,10))\n",
    "\n",
    "# Solve\n",
    "res = mesolve(H, rho0, tlist, c_ops_res, [b_tot.dag()*b_tot])\n",
    "dop = mesolve(H, rho0, tlist, c_ops_dop,  [b_tot.dag()*b_tot])\n",
    "\n",
    "n_res = np.real(res.expect[0])\n",
    "n_dop = np.real(dop.expect[0])\n",
    "\n",
    "plt.figure(figsize=(6,4))\n",
    "plt.plot(tlist, n_res, label='Resolved')\n",
    "plt.plot(tlist, n_dop, label='Doppler')\n",
    "plt.xlabel('Time'); plt.ylabel('⟨n⟩')\n",
    "plt.title('Phonon Decay: Resolved vs Doppler')\n",
    "plt.legend(); plt.grid(True)\n",
    "plt.savefig('phonon_decay.png', dpi=300)\n",
    "plt.show()"
   ]
  },
  {
   "cell_type": "code",
   "execution_count": null,
   "id": "1d5b8c71-18ba-4590-a58c-d03516ae86ac",
   "metadata": {},
   "outputs": [],
   "source": [
    "# Project 2 – Cooling vs. Detuning & Wigner"
   ]
  },
  {
   "cell_type": "code",
   "execution_count": null,
   "id": "e007f4e2-d293-414e-9b3f-2cf10233c683",
   "metadata": {},
   "outputs": [],
   "source": [
    "# Detuning sweep\n",
    "Delta_vals = np.linspace(-3*omega_m,3*omega_m,300)\n",
    "n_good, n_bad = [], []\n",
    "for Dlt in Delta_vals:\n",
    "    A_minus = kappa_res * g_eff**2 / ((Dlt+omega_m)**2 + (kappa_res/2)**2)\n",
    "    A_plus  = kappa_res * g_eff**2 / ((Dlt-omega_m)**2 + (kappa_res/2)**2)\n",
    "    n_good.append(A_plus/(A_minus-A_plus+1e-12))\n",
    "    A_minus = kappa_dop * g_eff**2 / ((Dlt+omega_m)**2 + (kappa_dop/2)**2)\n",
    "    A_plus  = kappa_dop * g_eff**2 / ((Dlt-omega_m)**2 + (kappa_dop/2)**2)\n",
    "    n_bad.append(A_plus/(A_minus-A_plus+1e-12))\n",
    "\n",
    "plt.figure(figsize=(6,4))\n",
    "plt.plot(Delta_vals/omega_m, n_good, label='Good-cav')\n",
    "plt.plot(Delta_vals/omega_m, n_bad,  label='Bad-cav')\n",
    "plt.xlabel('Δ/ωₘ'); plt.ylabel('n_final')\n",
    "plt.title('Cooling Limit vs Detuning')\n",
    "plt.legend(); plt.grid(True)\n",
    "plt.savefig('cooling_vs_detuning.png', dpi=300)\n",
    "plt.show()"
   ]
  },
  {
   "cell_type": "code",
   "execution_count": null,
   "id": "0d0c402a-01a7-489d-a854-298417705806",
   "metadata": {},
   "outputs": [],
   "source": []
  }
 ],
 "metadata": {
  "kernelspec": {
   "display_name": "Python 3 (ipykernel)",
   "language": "python",
   "name": "python3"
  },
  "language_info": {
   "codemirror_mode": {
    "name": "ipython",
    "version": 3
   },
   "file_extension": ".py",
   "mimetype": "text/x-python",
   "name": "python",
   "nbconvert_exporter": "python",
   "pygments_lexer": "ipython3",
   "version": "3.10.16"
  }
 },
 "nbformat": 4,
 "nbformat_minor": 5
}
