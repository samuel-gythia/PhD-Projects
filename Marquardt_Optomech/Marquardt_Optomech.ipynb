{
 "cells": [
  {
   "cell_type": "code",
   "execution_count": null,
   "id": "4b3c4584-dc38-4dd5-babf-d0ad75c1586f",
   "metadata": {},
   "outputs": [],
   "source": [
    "#  Imports & Parameters\n",
    "\n",
    "import numpy as np\n",
    "import matplotlib.pyplot as plt\n",
    "from qutip import destroy, qeye, tensor, mesolve, expect\n",
    "\n",
    "# System parameters\n",
    "omega_m = 1.0       # mechanical frequency\n",
    "Delta = -omega_m    # detuning for cooling\n",
    "g0 = 0.1            # single-photon coupling\n",
    "g_eff = 0.2        # effective coupling\n",
    "gamma = 0.01       # mechanical damping\n",
    "kappa_res = 0.1     # resolved-sideband\n",
    "kappa_dop = 3.0     # Doppler regime\n",
    "\n",
    "N_cav = 6           # cavity levels\n",
    "N_mec = 10          # mechanical levels\n",
    "tlist = np.linspace(0,20,200)"
   ]
  },
  {
   "cell_type": "code",
   "execution_count": null,
   "id": "197051d8-3fa3-4c80-93d4-8acf4644d0fa",
   "metadata": {},
   "outputs": [],
   "source": [
    "#  Project 1 – Phonon Decay Simulation"
   ]
  },
  {
   "cell_type": "code",
   "execution_count": null,
   "id": "ab5741ea-9b6e-4e58-b18f-e0eb3f162275",
   "metadata": {},
   "outputs": [],
   "source": [
    "# Operators\n",
    "a = destroy(N_cav)\n",
    "b = destroy(N_mec)\n",
    "I_c = qeye(N_cav)\n",
    "I_m = qeye(N_mec)\n",
    "a_tot = tensor(a, I_m)\n",
    "b_tot = tensor(I_c, b)\n",
    "\n",
    "# Hamiltonian\n",
    "H = (-Delta)*a_tot.dag()*a_tot + omega_m*b_tot.dag()*b_tot + \\\n",
    "    g0 * a_tot.dag()*a_tot*(b_tot + b_tot.dag()) + \\\n",
    "    g_eff * (a_tot + a_tot.dag())"
   ]
  },
  {
   "cell_type": "code",
   "execution_count": null,
   "id": "62ab2b9e-94b6-4585-a61c-6dc08c59875a",
   "metadata": {},
   "outputs": [],
   "source": []
  }
 ],
 "metadata": {
  "kernelspec": {
   "display_name": "Python 3 (ipykernel)",
   "language": "python",
   "name": "python3"
  },
  "language_info": {
   "codemirror_mode": {
    "name": "ipython",
    "version": 3
   },
   "file_extension": ".py",
   "mimetype": "text/x-python",
   "name": "python",
   "nbconvert_exporter": "python",
   "pygments_lexer": "ipython3",
   "version": "3.10.16"
  }
 },
 "nbformat": 4,
 "nbformat_minor": 5
}
